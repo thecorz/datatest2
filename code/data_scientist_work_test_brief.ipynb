{
 "cells": [
  {
   "cell_type": "markdown",
   "metadata": {},
   "source": [
    "# Data Scientist: work test (brief)\n",
    "Please work your way through the challenge below. This is not designed to trip you up and you may refer to any resources necessary.\n",
    "* Resources: your own know-how plus feel free to use any resource you can find online, this is not a memory test.\n",
    "* Not allowed: sharing...or help from a friend, colleague, relative or basically anyone else!\n",
    "* Time allowed: 60 minutes. Your time is precious.\n",
    "* Assessment: inspection of method used, expected results obtained. \n",
    "* Completed? Please export as a Python module and return to the recruiter.\n",
    "<HR>"
   ]
  },
  {
   "cell_type": "markdown",
   "metadata": {},
   "source": [
    "## Challenge\n",
    "Build a simple model using the nominated dataset and Sklearn (or other Python library) to predict __\"Level\"__ based on any available and appropriate features.\n",
    "#### Inputs\n",
    "Use this dataset: http://resources.xperthr.co.uk/surveys/salary/Sample/Work_Test_-_synthetic_data_ds.xlsx\n",
    "#### Outputs\n",
    "* Working code that fits a model \n",
    "* Prediction accuracy score metric named \"c1_score\" for a 30% test sample\n"
   ]
  },
  {
   "cell_type": "markdown",
   "metadata": {},
   "source": [
    "## SOLUTION"
   ]
  },
  {
   "cell_type": "code",
   "execution_count": 2,
   "metadata": {},
   "outputs": [],
   "source": [
    "import pandas as pd\n",
    "import urllib2\n",
    "import seaborn as sns"
   ]
  },
  {
   "cell_type": "markdown",
   "metadata": {},
   "source": [
    "Let's load the data and explore it first"
   ]
  },
  {
   "cell_type": "code",
   "execution_count": 3,
   "metadata": {},
   "outputs": [
    {
     "data": {
      "text/plain": [
       "[u'DATA', u'DICTIONARY', u'NOTES']"
      ]
     },
     "execution_count": 3,
     "metadata": {},
     "output_type": "execute_result"
    }
   ],
   "source": [
    "link = 'http://resources.xperthr.co.uk/surveys/salary/Sample/Work_Test_-_synthetic_data_ds.xlsx'\n",
    "socket = urllib2.urlopen(link)\n",
    "xd = pd.ExcelFile(socket)\n",
    "xd.sheet_names"
   ]
  },
  {
   "cell_type": "code",
   "execution_count": 4,
   "metadata": {},
   "outputs": [
    {
     "data": {
      "text/html": [
       "<div>\n",
       "<style scoped>\n",
       "    .dataframe tbody tr th:only-of-type {\n",
       "        vertical-align: middle;\n",
       "    }\n",
       "\n",
       "    .dataframe tbody tr th {\n",
       "        vertical-align: top;\n",
       "    }\n",
       "\n",
       "    .dataframe thead th {\n",
       "        text-align: right;\n",
       "    }\n",
       "</style>\n",
       "<table border=\"1\" class=\"dataframe\">\n",
       "  <thead>\n",
       "    <tr style=\"text-align: right;\">\n",
       "      <th></th>\n",
       "      <th>Basic_Salary</th>\n",
       "      <th>Bonus</th>\n",
       "      <th>Group</th>\n",
       "      <th>Level</th>\n",
       "      <th>Gender</th>\n",
       "    </tr>\n",
       "  </thead>\n",
       "  <tbody>\n",
       "    <tr>\n",
       "      <th>0</th>\n",
       "      <td>48686.278732</td>\n",
       "      <td>9420.756377</td>\n",
       "      <td>Call centre</td>\n",
       "      <td>(2) Supervisors / Experienced staff</td>\n",
       "      <td>Male</td>\n",
       "    </tr>\n",
       "    <tr>\n",
       "      <th>1</th>\n",
       "      <td>10191.013721</td>\n",
       "      <td>206.510473</td>\n",
       "      <td>Finance</td>\n",
       "      <td>(1) Junior staff</td>\n",
       "      <td>Female</td>\n",
       "    </tr>\n",
       "    <tr>\n",
       "      <th>2</th>\n",
       "      <td>30816.941629</td>\n",
       "      <td>980.769420</td>\n",
       "      <td>Product C</td>\n",
       "      <td>(1) Junior staff</td>\n",
       "      <td>Female</td>\n",
       "    </tr>\n",
       "    <tr>\n",
       "      <th>3</th>\n",
       "      <td>30831.968804</td>\n",
       "      <td>1566.557269</td>\n",
       "      <td>Sales</td>\n",
       "      <td>(2) Supervisors / Experienced staff</td>\n",
       "      <td>Female</td>\n",
       "    </tr>\n",
       "    <tr>\n",
       "      <th>4</th>\n",
       "      <td>44125.142656</td>\n",
       "      <td>5125.263738</td>\n",
       "      <td>Logistics</td>\n",
       "      <td>(1) Junior staff</td>\n",
       "      <td>Male</td>\n",
       "    </tr>\n",
       "  </tbody>\n",
       "</table>\n",
       "</div>"
      ],
      "text/plain": [
       "   Basic_Salary        Bonus        Group  \\\n",
       "0  48686.278732  9420.756377  Call centre   \n",
       "1  10191.013721   206.510473      Finance   \n",
       "2  30816.941629   980.769420    Product C   \n",
       "3  30831.968804  1566.557269        Sales   \n",
       "4  44125.142656  5125.263738    Logistics   \n",
       "\n",
       "                                 Level  Gender  \n",
       "0  (2) Supervisors / Experienced staff    Male  \n",
       "1                     (1) Junior staff  Female  \n",
       "2                     (1) Junior staff  Female  \n",
       "3  (2) Supervisors / Experienced staff  Female  \n",
       "4                     (1) Junior staff    Male  "
      ]
     },
     "execution_count": 4,
     "metadata": {},
     "output_type": "execute_result"
    }
   ],
   "source": [
    "df = xd.parse(xd.sheet_names[0], header=0)\n",
    "df.head()"
   ]
  },
  {
   "cell_type": "code",
   "execution_count": 5,
   "metadata": {},
   "outputs": [
    {
     "data": {
      "text/html": [
       "<div>\n",
       "<style scoped>\n",
       "    .dataframe tbody tr th:only-of-type {\n",
       "        vertical-align: middle;\n",
       "    }\n",
       "\n",
       "    .dataframe tbody tr th {\n",
       "        vertical-align: top;\n",
       "    }\n",
       "\n",
       "    .dataframe thead th {\n",
       "        text-align: right;\n",
       "    }\n",
       "</style>\n",
       "<table border=\"1\" class=\"dataframe\">\n",
       "  <thead>\n",
       "    <tr style=\"text-align: right;\">\n",
       "      <th></th>\n",
       "      <th>Field</th>\n",
       "      <th>Description</th>\n",
       "    </tr>\n",
       "  </thead>\n",
       "  <tbody>\n",
       "    <tr>\n",
       "      <th>0</th>\n",
       "      <td>Basic_Salary</td>\n",
       "      <td>Current annual salary of employee (£)</td>\n",
       "    </tr>\n",
       "    <tr>\n",
       "      <th>1</th>\n",
       "      <td>Bonus</td>\n",
       "      <td>Amount of bonus received in past 12 months by ...</td>\n",
       "    </tr>\n",
       "    <tr>\n",
       "      <th>2</th>\n",
       "      <td>Group</td>\n",
       "      <td>Business group of employee</td>\n",
       "    </tr>\n",
       "    <tr>\n",
       "      <th>3</th>\n",
       "      <td>Level</td>\n",
       "      <td>Job level of employee</td>\n",
       "    </tr>\n",
       "    <tr>\n",
       "      <th>4</th>\n",
       "      <td>Gender</td>\n",
       "      <td>Gender of employee</td>\n",
       "    </tr>\n",
       "  </tbody>\n",
       "</table>\n",
       "</div>"
      ],
      "text/plain": [
       "          Field                                        Description\n",
       "0  Basic_Salary              Current annual salary of employee (£)\n",
       "1         Bonus  Amount of bonus received in past 12 months by ...\n",
       "2         Group                         Business group of employee\n",
       "3         Level                              Job level of employee\n",
       "4        Gender                                 Gender of employee"
      ]
     },
     "execution_count": 5,
     "metadata": {},
     "output_type": "execute_result"
    }
   ],
   "source": [
    "dictionary = xd.parse(xd.sheet_names[1], header=0)\n",
    "dictionary"
   ]
  },
  {
   "cell_type": "code",
   "execution_count": 6,
   "metadata": {},
   "outputs": [
    {
     "data": {
      "text/plain": [
       "(u'This is an entirely fictional dataset.',\n",
       " u'The dataset provides information on the all of the employees of a notional UK private sector organisation.')"
      ]
     },
     "execution_count": 6,
     "metadata": {},
     "output_type": "execute_result"
    }
   ],
   "source": [
    "notes = xd.parse(xd.sheet_names[2], header=0)\n",
    "notes.iloc[0,1], notes.iloc[1,1]"
   ]
  },
  {
   "cell_type": "markdown",
   "metadata": {},
   "source": [
    "The dataset contains data from a fictional UK private organisation. It comprises data on basic salary, bonus, team they work on, level and gender"
   ]
  },
  {
   "cell_type": "markdown",
   "metadata": {},
   "source": [
    "## Data Format and descriptives"
   ]
  },
  {
   "cell_type": "markdown",
   "metadata": {},
   "source": [
    "Let's have a look to some descriptives\n"
   ]
  },
  {
   "cell_type": "code",
   "execution_count": 7,
   "metadata": {},
   "outputs": [
    {
     "name": "stdout",
     "output_type": "stream",
     "text": [
      "<class 'pandas.core.frame.DataFrame'>\n",
      "RangeIndex: 2000 entries, 0 to 1999\n",
      "Data columns (total 5 columns):\n",
      "Basic_Salary    1989 non-null float64\n",
      "Bonus           1989 non-null float64\n",
      "Group           1993 non-null object\n",
      "Level           2000 non-null object\n",
      "Gender          2000 non-null object\n",
      "dtypes: float64(2), object(3)\n",
      "memory usage: 78.2+ KB\n"
     ]
    }
   ],
   "source": [
    "df.info()"
   ]
  },
  {
   "cell_type": "code",
   "execution_count": 8,
   "metadata": {},
   "outputs": [
    {
     "data": {
      "text/html": [
       "<div>\n",
       "<style scoped>\n",
       "    .dataframe tbody tr th:only-of-type {\n",
       "        vertical-align: middle;\n",
       "    }\n",
       "\n",
       "    .dataframe tbody tr th {\n",
       "        vertical-align: top;\n",
       "    }\n",
       "\n",
       "    .dataframe thead th {\n",
       "        text-align: right;\n",
       "    }\n",
       "</style>\n",
       "<table border=\"1\" class=\"dataframe\">\n",
       "  <thead>\n",
       "    <tr style=\"text-align: right;\">\n",
       "      <th></th>\n",
       "      <th>Basic_Salary</th>\n",
       "      <th>Bonus</th>\n",
       "      <th>Group</th>\n",
       "      <th>Level</th>\n",
       "      <th>Gender</th>\n",
       "    </tr>\n",
       "  </thead>\n",
       "  <tbody>\n",
       "    <tr>\n",
       "      <th>16</th>\n",
       "      <td>NaN</td>\n",
       "      <td>954.453017</td>\n",
       "      <td>Call centre</td>\n",
       "      <td>(1) Junior staff</td>\n",
       "      <td>Female</td>\n",
       "    </tr>\n",
       "    <tr>\n",
       "      <th>306</th>\n",
       "      <td>NaN</td>\n",
       "      <td>3015.727366</td>\n",
       "      <td>Finance</td>\n",
       "      <td>(3) Team Managers</td>\n",
       "      <td>Male</td>\n",
       "    </tr>\n",
       "    <tr>\n",
       "      <th>376</th>\n",
       "      <td>NaN</td>\n",
       "      <td>642.743906</td>\n",
       "      <td>IT</td>\n",
       "      <td>(1) Junior staff</td>\n",
       "      <td>Female</td>\n",
       "    </tr>\n",
       "    <tr>\n",
       "      <th>654</th>\n",
       "      <td>NaN</td>\n",
       "      <td>1321.563720</td>\n",
       "      <td>Business services</td>\n",
       "      <td>(2) Supervisors / Experienced staff</td>\n",
       "      <td>Male</td>\n",
       "    </tr>\n",
       "    <tr>\n",
       "      <th>724</th>\n",
       "      <td>NaN</td>\n",
       "      <td>26663.253416</td>\n",
       "      <td>Sales</td>\n",
       "      <td>(4) Senior Managers</td>\n",
       "      <td>Male</td>\n",
       "    </tr>\n",
       "    <tr>\n",
       "      <th>1003</th>\n",
       "      <td>NaN</td>\n",
       "      <td>293.370251</td>\n",
       "      <td>Finance</td>\n",
       "      <td>(2) Supervisors / Experienced staff</td>\n",
       "      <td>Female</td>\n",
       "    </tr>\n",
       "    <tr>\n",
       "      <th>1073</th>\n",
       "      <td>NaN</td>\n",
       "      <td>281.729133</td>\n",
       "      <td>Call centre</td>\n",
       "      <td>(1) Junior staff</td>\n",
       "      <td>Female</td>\n",
       "    </tr>\n",
       "    <tr>\n",
       "      <th>1355</th>\n",
       "      <td>NaN</td>\n",
       "      <td>2077.044082</td>\n",
       "      <td>Call centre</td>\n",
       "      <td>(2) Supervisors / Experienced staff</td>\n",
       "      <td>Female</td>\n",
       "    </tr>\n",
       "    <tr>\n",
       "      <th>1425</th>\n",
       "      <td>NaN</td>\n",
       "      <td>1270.383646</td>\n",
       "      <td>IT</td>\n",
       "      <td>(1) Junior staff</td>\n",
       "      <td>Female</td>\n",
       "    </tr>\n",
       "    <tr>\n",
       "      <th>1778</th>\n",
       "      <td>NaN</td>\n",
       "      <td>6498.130199</td>\n",
       "      <td>Business services</td>\n",
       "      <td>(3) Team Managers</td>\n",
       "      <td>Male</td>\n",
       "    </tr>\n",
       "    <tr>\n",
       "      <th>1848</th>\n",
       "      <td>NaN</td>\n",
       "      <td>5106.986428</td>\n",
       "      <td>Business services</td>\n",
       "      <td>(3) Team Managers</td>\n",
       "      <td>Female</td>\n",
       "    </tr>\n",
       "  </tbody>\n",
       "</table>\n",
       "</div>"
      ],
      "text/plain": [
       "      Basic_Salary         Bonus              Group  \\\n",
       "16             NaN    954.453017        Call centre   \n",
       "306            NaN   3015.727366            Finance   \n",
       "376            NaN    642.743906                 IT   \n",
       "654            NaN   1321.563720  Business services   \n",
       "724            NaN  26663.253416              Sales   \n",
       "1003           NaN    293.370251            Finance   \n",
       "1073           NaN    281.729133        Call centre   \n",
       "1355           NaN   2077.044082        Call centre   \n",
       "1425           NaN   1270.383646                 IT   \n",
       "1778           NaN   6498.130199  Business services   \n",
       "1848           NaN   5106.986428  Business services   \n",
       "\n",
       "                                    Level  Gender  \n",
       "16                       (1) Junior staff  Female  \n",
       "306                     (3) Team Managers    Male  \n",
       "376                      (1) Junior staff  Female  \n",
       "654   (2) Supervisors / Experienced staff    Male  \n",
       "724                   (4) Senior Managers    Male  \n",
       "1003  (2) Supervisors / Experienced staff  Female  \n",
       "1073                     (1) Junior staff  Female  \n",
       "1355  (2) Supervisors / Experienced staff  Female  \n",
       "1425                     (1) Junior staff  Female  \n",
       "1778                    (3) Team Managers    Male  \n",
       "1848                    (3) Team Managers  Female  "
      ]
     },
     "execution_count": 8,
     "metadata": {},
     "output_type": "execute_result"
    }
   ],
   "source": [
    "df[df['Basic_Salary'].isna()]"
   ]
  },
  {
   "cell_type": "code",
   "execution_count": 9,
   "metadata": {},
   "outputs": [
    {
     "data": {
      "text/html": [
       "<div>\n",
       "<style scoped>\n",
       "    .dataframe tbody tr th:only-of-type {\n",
       "        vertical-align: middle;\n",
       "    }\n",
       "\n",
       "    .dataframe tbody tr th {\n",
       "        vertical-align: top;\n",
       "    }\n",
       "\n",
       "    .dataframe thead th {\n",
       "        text-align: right;\n",
       "    }\n",
       "</style>\n",
       "<table border=\"1\" class=\"dataframe\">\n",
       "  <thead>\n",
       "    <tr style=\"text-align: right;\">\n",
       "      <th></th>\n",
       "      <th>Basic_Salary</th>\n",
       "      <th>Bonus</th>\n",
       "      <th>Group</th>\n",
       "      <th>Level</th>\n",
       "      <th>Gender</th>\n",
       "    </tr>\n",
       "  </thead>\n",
       "  <tbody>\n",
       "    <tr>\n",
       "      <th>91</th>\n",
       "      <td>90565.047729</td>\n",
       "      <td>NaN</td>\n",
       "      <td>Call centre</td>\n",
       "      <td>(4) Senior Managers</td>\n",
       "      <td>Male</td>\n",
       "    </tr>\n",
       "    <tr>\n",
       "      <th>230</th>\n",
       "      <td>38036.682126</td>\n",
       "      <td>NaN</td>\n",
       "      <td>Business services</td>\n",
       "      <td>(2) Supervisors / Experienced staff</td>\n",
       "      <td>Male</td>\n",
       "    </tr>\n",
       "    <tr>\n",
       "      <th>448</th>\n",
       "      <td>20486.711642</td>\n",
       "      <td>NaN</td>\n",
       "      <td>HR</td>\n",
       "      <td>(1) Junior staff</td>\n",
       "      <td>Female</td>\n",
       "    </tr>\n",
       "    <tr>\n",
       "      <th>585</th>\n",
       "      <td>63156.212320</td>\n",
       "      <td>NaN</td>\n",
       "      <td>Business services</td>\n",
       "      <td>(5) Department Head</td>\n",
       "      <td>Male</td>\n",
       "    </tr>\n",
       "    <tr>\n",
       "      <th>794</th>\n",
       "      <td>48221.952121</td>\n",
       "      <td>NaN</td>\n",
       "      <td>Product B</td>\n",
       "      <td>(2) Supervisors / Experienced staff</td>\n",
       "      <td>Female</td>\n",
       "    </tr>\n",
       "    <tr>\n",
       "      <th>933</th>\n",
       "      <td>18225.840801</td>\n",
       "      <td>NaN</td>\n",
       "      <td>Call centre</td>\n",
       "      <td>(1) Junior staff</td>\n",
       "      <td>Female</td>\n",
       "    </tr>\n",
       "    <tr>\n",
       "      <th>1143</th>\n",
       "      <td>39068.967639</td>\n",
       "      <td>NaN</td>\n",
       "      <td>Finance</td>\n",
       "      <td>(3) Team Managers</td>\n",
       "      <td>Male</td>\n",
       "    </tr>\n",
       "    <tr>\n",
       "      <th>1285</th>\n",
       "      <td>28044.759051</td>\n",
       "      <td>NaN</td>\n",
       "      <td>Product C</td>\n",
       "      <td>(1) Junior staff</td>\n",
       "      <td>Female</td>\n",
       "    </tr>\n",
       "    <tr>\n",
       "      <th>1496</th>\n",
       "      <td>44715.397841</td>\n",
       "      <td>NaN</td>\n",
       "      <td>Business services</td>\n",
       "      <td>(3) Team Managers</td>\n",
       "      <td>Male</td>\n",
       "    </tr>\n",
       "    <tr>\n",
       "      <th>1708</th>\n",
       "      <td>25344.540590</td>\n",
       "      <td>NaN</td>\n",
       "      <td>Finance</td>\n",
       "      <td>(1) Junior staff</td>\n",
       "      <td>Female</td>\n",
       "    </tr>\n",
       "    <tr>\n",
       "      <th>1917</th>\n",
       "      <td>23600.921531</td>\n",
       "      <td>NaN</td>\n",
       "      <td>Finance</td>\n",
       "      <td>(1) Junior staff</td>\n",
       "      <td>Female</td>\n",
       "    </tr>\n",
       "  </tbody>\n",
       "</table>\n",
       "</div>"
      ],
      "text/plain": [
       "      Basic_Salary  Bonus              Group  \\\n",
       "91    90565.047729    NaN        Call centre   \n",
       "230   38036.682126    NaN  Business services   \n",
       "448   20486.711642    NaN                 HR   \n",
       "585   63156.212320    NaN  Business services   \n",
       "794   48221.952121    NaN          Product B   \n",
       "933   18225.840801    NaN        Call centre   \n",
       "1143  39068.967639    NaN            Finance   \n",
       "1285  28044.759051    NaN          Product C   \n",
       "1496  44715.397841    NaN  Business services   \n",
       "1708  25344.540590    NaN            Finance   \n",
       "1917  23600.921531    NaN            Finance   \n",
       "\n",
       "                                    Level  Gender  \n",
       "91                    (4) Senior Managers    Male  \n",
       "230   (2) Supervisors / Experienced staff    Male  \n",
       "448                      (1) Junior staff  Female  \n",
       "585                   (5) Department Head    Male  \n",
       "794   (2) Supervisors / Experienced staff  Female  \n",
       "933                      (1) Junior staff  Female  \n",
       "1143                    (3) Team Managers    Male  \n",
       "1285                     (1) Junior staff  Female  \n",
       "1496                    (3) Team Managers    Male  \n",
       "1708                     (1) Junior staff  Female  \n",
       "1917                     (1) Junior staff  Female  "
      ]
     },
     "execution_count": 9,
     "metadata": {},
     "output_type": "execute_result"
    }
   ],
   "source": [
    "df[df['Bonus'].isna()]"
   ]
  },
  {
   "cell_type": "markdown",
   "metadata": {},
   "source": [
    "There are 11 null values in basic salary and bonus, 7 null values in group"
   ]
  },
  {
   "cell_type": "code",
   "execution_count": 10,
   "metadata": {},
   "outputs": [
    {
     "data": {
      "text/html": [
       "<div>\n",
       "<style scoped>\n",
       "    .dataframe tbody tr th:only-of-type {\n",
       "        vertical-align: middle;\n",
       "    }\n",
       "\n",
       "    .dataframe tbody tr th {\n",
       "        vertical-align: top;\n",
       "    }\n",
       "\n",
       "    .dataframe thead th {\n",
       "        text-align: right;\n",
       "    }\n",
       "</style>\n",
       "<table border=\"1\" class=\"dataframe\">\n",
       "  <thead>\n",
       "    <tr style=\"text-align: right;\">\n",
       "      <th></th>\n",
       "      <th>Basic_Salary</th>\n",
       "      <th>Bonus</th>\n",
       "    </tr>\n",
       "  </thead>\n",
       "  <tbody>\n",
       "    <tr>\n",
       "      <th>count</th>\n",
       "      <td>1989.000000</td>\n",
       "      <td>1989.000000</td>\n",
       "    </tr>\n",
       "    <tr>\n",
       "      <th>mean</th>\n",
       "      <td>42696.019052</td>\n",
       "      <td>4363.660330</td>\n",
       "    </tr>\n",
       "    <tr>\n",
       "      <th>std</th>\n",
       "      <td>24235.120788</td>\n",
       "      <td>8415.728767</td>\n",
       "    </tr>\n",
       "    <tr>\n",
       "      <th>min</th>\n",
       "      <td>7083.089562</td>\n",
       "      <td>21.911641</td>\n",
       "    </tr>\n",
       "    <tr>\n",
       "      <th>25%</th>\n",
       "      <td>26116.805345</td>\n",
       "      <td>786.398788</td>\n",
       "    </tr>\n",
       "    <tr>\n",
       "      <th>50%</th>\n",
       "      <td>37094.586792</td>\n",
       "      <td>1839.031102</td>\n",
       "    </tr>\n",
       "    <tr>\n",
       "      <th>75%</th>\n",
       "      <td>53026.771998</td>\n",
       "      <td>4718.152020</td>\n",
       "    </tr>\n",
       "    <tr>\n",
       "      <th>max</th>\n",
       "      <td>215104.460674</td>\n",
       "      <td>128633.839876</td>\n",
       "    </tr>\n",
       "  </tbody>\n",
       "</table>\n",
       "</div>"
      ],
      "text/plain": [
       "        Basic_Salary          Bonus\n",
       "count    1989.000000    1989.000000\n",
       "mean    42696.019052    4363.660330\n",
       "std     24235.120788    8415.728767\n",
       "min      7083.089562      21.911641\n",
       "25%     26116.805345     786.398788\n",
       "50%     37094.586792    1839.031102\n",
       "75%     53026.771998    4718.152020\n",
       "max    215104.460674  128633.839876"
      ]
     },
     "execution_count": 10,
     "metadata": {},
     "output_type": "execute_result"
    }
   ],
   "source": [
    "df.describe()"
   ]
  },
  {
   "cell_type": "markdown",
   "metadata": {},
   "source": [
    "Let's analyse this variables in histogram"
   ]
  },
  {
   "cell_type": "code",
   "execution_count": 11,
   "metadata": {},
   "outputs": [
    {
     "data": {
      "text/html": [
       "<div>\n",
       "<style scoped>\n",
       "    .dataframe tbody tr th:only-of-type {\n",
       "        vertical-align: middle;\n",
       "    }\n",
       "\n",
       "    .dataframe tbody tr th {\n",
       "        vertical-align: top;\n",
       "    }\n",
       "\n",
       "    .dataframe thead th {\n",
       "        text-align: right;\n",
       "    }\n",
       "</style>\n",
       "<table border=\"1\" class=\"dataframe\">\n",
       "  <thead>\n",
       "    <tr style=\"text-align: right;\">\n",
       "      <th></th>\n",
       "      <th>Group</th>\n",
       "      <th>Level</th>\n",
       "      <th>Gender</th>\n",
       "    </tr>\n",
       "  </thead>\n",
       "  <tbody>\n",
       "    <tr>\n",
       "      <th>count</th>\n",
       "      <td>1993</td>\n",
       "      <td>2000</td>\n",
       "      <td>2000</td>\n",
       "    </tr>\n",
       "    <tr>\n",
       "      <th>unique</th>\n",
       "      <td>13</td>\n",
       "      <td>9</td>\n",
       "      <td>2</td>\n",
       "    </tr>\n",
       "    <tr>\n",
       "      <th>top</th>\n",
       "      <td>IT</td>\n",
       "      <td>(2) Supervisors / Experienced staff</td>\n",
       "      <td>Female</td>\n",
       "    </tr>\n",
       "    <tr>\n",
       "      <th>freq</th>\n",
       "      <td>418</td>\n",
       "      <td>639</td>\n",
       "      <td>1176</td>\n",
       "    </tr>\n",
       "  </tbody>\n",
       "</table>\n",
       "</div>"
      ],
      "text/plain": [
       "       Group                                Level  Gender\n",
       "count   1993                                 2000    2000\n",
       "unique    13                                    9       2\n",
       "top       IT  (2) Supervisors / Experienced staff  Female\n",
       "freq     418                                  639    1176"
      ]
     },
     "execution_count": 11,
     "metadata": {},
     "output_type": "execute_result"
    }
   ],
   "source": [
    "df.describe(include='object')"
   ]
  },
  {
   "cell_type": "markdown",
   "metadata": {},
   "source": [
    "Conclusions:\n",
    "* 9 levels, 13 groups\n",
    "* aprox mean salary: 43k; aprox median salary: 37k\n",
    "* aprox mean bonus: 4k; aprox median bonus: 1.8k"
   ]
  },
  {
   "cell_type": "markdown",
   "metadata": {},
   "source": [
    "## Trasnformations"
   ]
  },
  {
   "cell_type": "markdown",
   "metadata": {},
   "source": [
    "list of transformations:\n",
    "* Deal with NA's\n",
    "* Salary and bonus to integer\n",
    "* categorical to categorical?\n",
    "\n",
    "I'll use pandas for these transformations"
   ]
  },
  {
   "cell_type": "markdown",
   "metadata": {},
   "source": [
    "### NA's\n",
    "I think the best option is to get rid of the records with na's"
   ]
  },
  {
   "cell_type": "code",
   "execution_count": 12,
   "metadata": {},
   "outputs": [
    {
     "name": "stdout",
     "output_type": "stream",
     "text": [
      "<class 'pandas.core.frame.DataFrame'>\n",
      "Int64Index: 1978 entries, 0 to 1999\n",
      "Data columns (total 5 columns):\n",
      "Basic_Salary    1978 non-null float64\n",
      "Bonus           1978 non-null float64\n",
      "Group           1971 non-null object\n",
      "Level           1978 non-null object\n",
      "Gender          1978 non-null object\n",
      "dtypes: float64(2), object(3)\n",
      "memory usage: 92.7+ KB\n"
     ]
    }
   ],
   "source": [
    "df.dropna(axis=0, how='any', subset=['Basic_Salary', 'Bonus'], inplace=True)\n",
    "df.info()"
   ]
  },
  {
   "cell_type": "markdown",
   "metadata": {},
   "source": [
    "That's 22 rows deleted. There is still 7 na's in the group variable. I will see get rid of those it's needed as well"
   ]
  },
  {
   "cell_type": "code",
   "execution_count": 13,
   "metadata": {},
   "outputs": [],
   "source": [
    "df = df.astype({\"Basic_Salary\": int, \"Bonus\": int})"
   ]
  },
  {
   "cell_type": "markdown",
   "metadata": {},
   "source": [
    "## EXPLORATORY DATA ANALYSIS"
   ]
  },
  {
   "cell_type": "markdown",
   "metadata": {},
   "source": [
    "Let's have a look to the distributions of Salaries and Bonus"
   ]
  },
  {
   "cell_type": "code",
   "execution_count": 18,
   "metadata": {},
   "outputs": [
    {
     "data": {
      "text/plain": [
       "<matplotlib.axes._subplots.AxesSubplot at 0x10b6f6110>"
      ]
     },
     "execution_count": 18,
     "metadata": {},
     "output_type": "execute_result"
    },
    {
     "data": {
      "image/png": "[encoded data removed]",
      "text/plain": [
       "<Figure size 432x288 with 1 Axes>"
      ]
     },
     "metadata": {},
     "output_type": "display_data"
    }
   ],
   "source": [
    "sns.distplot(df['Basic_Salary'])"
   ]
  },
  {
   "cell_type": "markdown",
   "metadata": {},
   "source": [
    "Not normal. Fat right tail (mean larger than median)"
   ]
  },
  {
   "cell_type": "code",
   "execution_count": 19,
   "metadata": {},
   "outputs": [
    {
     "data": {
      "text/plain": [
       "<matplotlib.axes._subplots.AxesSubplot at 0x10b7b1dd0>"
      ]
     },
     "execution_count": 19,
     "metadata": {},
     "output_type": "execute_result"
    },
    {
     "data": {
      "image/png": "[encoded data removed]",
      "text/plain": [
       "<Figure size 432x288 with 1 Axes>"
      ]
     },
     "metadata": {},
     "output_type": "display_data"
    }
   ],
   "source": [
    "sns.distplot(df['Bonus'])"
   ]
  },
  {
   "cell_type": "markdown",
   "metadata": {},
   "source": [
    "Not normal, Long right tail. Lot's of 0 bonuses?"
   ]
  },
  {
   "cell_type": "code",
   "execution_count": 20,
   "metadata": {},
   "outputs": [
    {
     "data": {
      "text/plain": [
       "0"
      ]
     },
     "execution_count": 20,
     "metadata": {},
     "output_type": "execute_result"
    }
   ],
   "source": [
    "sum(df['Bonus'] == 0)"
   ]
  },
  {
   "cell_type": "markdown",
   "metadata": {},
   "source": [
    "No 0's so most of the bonuses are very low"
   ]
  },
  {
   "cell_type": "code",
   "execution_count": 15,
   "metadata": {},
   "outputs": [
    {
     "data": {
      "text/plain": [
       "<seaborn.axisgrid.PairGrid at 0x116349a90>"
      ]
     },
     "execution_count": 15,
     "metadata": {},
     "output_type": "execute_result"
    },
    {
     "data": {
      "image/png": "[encoded data removed]",
      "text/plain": [
       "<Figure size 484.625x360 with 6 Axes>"
      ]
     },
     "metadata": {},
     "output_type": "display_data"
    }
   ],
   "source": [
    "sns.pairplot(df, hue='Group')"
   ]
  },
  {
   "cell_type": "code",
   "execution_count": 16,
   "metadata": {},
   "outputs": [
    {
     "data": {
      "text/plain": [
       "<seaborn.axisgrid.PairGrid at 0x116981790>"
      ]
     },
     "execution_count": 16,
     "metadata": {},
     "output_type": "execute_result"
    },
    {
     "data": {
      "image/png": "[encoded data removed]",
      "text/plain": [
       "<Figure size 569x360 with 6 Axes>"
      ]
     },
     "metadata": {},
     "output_type": "display_data"
    }
   ],
   "source": [
    "sns.pairplot(df, hue='Level')"
   ]
  },
  {
   "cell_type": "code",
   "execution_count": 17,
   "metadata": {},
   "outputs": [
    {
     "data": {
      "text/plain": [
       "<seaborn.axisgrid.PairGrid at 0x11699b690>"
      ]
     },
     "execution_count": 17,
     "metadata": {},
     "output_type": "execute_result"
    },
    {
     "data": {
      "image/png": "[encoded data removed]",
      "text/plain": [
       "<Figure size 432.625x360 with 6 Axes>"
      ]
     },
     "metadata": {},
     "output_type": "display_data"
    }
   ],
   "source": [
    "sns.pairplot(df, hue='Gender')"
   ]
  },
  {
   "cell_type": "markdown",
   "metadata": {},
   "source": [
    "## MODELLING\n",
    "We need to fit a classification model. Gender should not be a predictor of level, so I will leave out of the the model."
   ]
  },
  {
   "cell_type": "markdown",
   "metadata": {},
   "source": [
    "For the modeling I get rid of all the na's including group"
   ]
  },
  {
   "cell_type": "code",
   "execution_count": 14,
   "metadata": {},
   "outputs": [
    {
     "name": "stdout",
     "output_type": "stream",
     "text": [
      "<class 'pandas.core.frame.DataFrame'>\n",
      "Int64Index: 1971 entries, 0 to 1999\n",
      "Data columns (total 5 columns):\n",
      "Basic_Salary    1971 non-null int64\n",
      "Bonus           1971 non-null int64\n",
      "Group           1971 non-null object\n",
      "Level           1971 non-null object\n",
      "Gender          1971 non-null object\n",
      "dtypes: int64(2), object(3)\n",
      "memory usage: 92.4+ KB\n"
     ]
    }
   ],
   "source": [
    "df.dropna(axis=0, how='any', subset=['Group'], inplace=True)\n",
    "df.info()"
   ]
  },
  {
   "cell_type": "code",
   "execution_count": 18,
   "metadata": {},
   "outputs": [],
   "source": [
    "X = df[['Basic_Salary', 'Bonus', 'Group']]\n",
    "y = df['Level']"
   ]
  },
  {
   "cell_type": "code",
   "execution_count": 19,
   "metadata": {},
   "outputs": [
    {
     "name": "stdout",
     "output_type": "stream",
     "text": [
      "<class 'pandas.core.frame.DataFrame'>\n",
      "Int64Index: 1971 entries, 0 to 1999\n",
      "Data columns (total 3 columns):\n",
      "Basic_Salary    1971 non-null int64\n",
      "Bonus           1971 non-null int64\n",
      "Group           1971 non-null object\n",
      "dtypes: int64(2), object(1)\n",
      "memory usage: 141.6+ KB\n"
     ]
    }
   ],
   "source": [
    "X.info()"
   ]
  },
  {
   "cell_type": "code",
   "execution_count": 135,
   "metadata": {},
   "outputs": [],
   "source": [
    "from sklearn.model_selection import train_test_split\n",
    "from sklearn.preprocessing import LabelEncoder, OneHotEncoder\n",
    "from sklearn.compose import ColumnTransformer\n",
    "from sklearn.metrics import accuracy_score\n",
    "from sklearn.metrics import classification_report\n",
    "from sklearn.metrics import f1_score\n",
    "ohe = OneHotEncoder(handle_unknown='ignore', sparse=False)\n",
    "\n",
    "X_preprocessor = ColumnTransformer(\n",
    "    transformers= [('cat', ohe, ['Group'])], remainder='passthrough'\n",
    ")"
   ]
  },
  {
   "cell_type": "code",
   "execution_count": 66,
   "metadata": {},
   "outputs": [],
   "source": [
    "X_t = X_preprocessor.fit_transform(X)"
   ]
  },
  {
   "cell_type": "code",
   "execution_count": 95,
   "metadata": {},
   "outputs": [],
   "source": [
    "le = LabelEncoder()\n",
    "y_t = le.fit_transform(y)\n",
    "y_names = list(le.classes_)"
   ]
  },
  {
   "cell_type": "code",
   "execution_count": 72,
   "metadata": {},
   "outputs": [],
   "source": [
    "X_train, X_test, y_train, y_test = \\\n",
    "        train_test_split(X_t, y_t, test_size=.3, random_state=123, stratify=y)"
   ]
  },
  {
   "cell_type": "markdown",
   "metadata": {},
   "source": [
    "## Logistic Regression"
   ]
  },
  {
   "cell_type": "code",
   "execution_count": 134,
   "metadata": {},
   "outputs": [
    {
     "data": {
      "text/plain": [
       "0.4239864864864865"
      ]
     },
     "execution_count": 134,
     "metadata": {},
     "output_type": "execute_result"
    }
   ],
   "source": [
    "from sklearn.linear_model import LogisticRegression\n",
    "lr = LogisticRegression(C=1, solver='lbfgs', multi_class='multinomial')\n",
    "lr_m = lr.fit(X_test, y_test)"
   ]
  },
  {
   "cell_type": "code",
   "execution_count": 143,
   "metadata": {},
   "outputs": [
    {
     "data": {
      "text/plain": [
       "0.3907831338878222"
      ]
     },
     "execution_count": 143,
     "metadata": {},
     "output_type": "execute_result"
    }
   ],
   "source": [
    "lr_preds = lr_m.predict(X_test)\n",
    "f1_score(y_test, lr_preds, average='weighted')"
   ]
  },
  {
   "cell_type": "markdown",
   "metadata": {},
   "source": [
    "## SVC"
   ]
  },
  {
   "cell_type": "code",
   "execution_count": 87,
   "metadata": {},
   "outputs": [],
   "source": [
    "from sklearn.svm import SVC\n",
    "svc = SVC(gamma='auto')\n",
    "svc_m = svc.fit(X_train, y_train) "
   ]
  },
  {
   "cell_type": "code",
   "execution_count": 88,
   "metadata": {},
   "outputs": [],
   "source": [
    "svc_preds = svc_m.predict(X_test)"
   ]
  },
  {
   "cell_type": "code",
   "execution_count": 141,
   "metadata": {},
   "outputs": [
    {
     "data": {
      "text/plain": [
       "0.15595838805557474"
      ]
     },
     "execution_count": 141,
     "metadata": {},
     "output_type": "execute_result"
    }
   ],
   "source": [
    "f1_score(y_test, svc_preds, average='weighted')"
   ]
  },
  {
   "cell_type": "markdown",
   "metadata": {},
   "source": [
    "## Gaussian Naive Bayes"
   ]
  },
  {
   "cell_type": "code",
   "execution_count": 86,
   "metadata": {},
   "outputs": [],
   "source": [
    "from sklearn.naive_bayes import GaussianNB\n",
    "gnb = GaussianNB()\n",
    "gnb_m = gnb.fit(X_train, y_train)"
   ]
  },
  {
   "cell_type": "code",
   "execution_count": 140,
   "metadata": {},
   "outputs": [
    {
     "data": {
      "text/plain": [
       "0.4797297297297297"
      ]
     },
     "execution_count": 140,
     "metadata": {},
     "output_type": "execute_result"
    }
   ],
   "source": [
    "gnb_preds = gnb.predict(X_test)\n",
    "# accuracy_score(y_test, gnb_preds)\n",
    "f1_score(y_test, gnb_preds, average='micro')"
   ]
  },
  {
   "cell_type": "code",
   "execution_count": 97,
   "metadata": {},
   "outputs": [
    {
     "name": "stdout",
     "output_type": "stream",
     "text": [
      "                                     precision    recall  f1-score   support\n",
      "\n",
      "                   (1) Junior staff       0.54      0.91      0.68       148\n",
      "(2) Supervisors / Experienced staff       0.49      0.44      0.46       190\n",
      "                  (3) Team Managers       0.39      0.31      0.35       127\n",
      "                (4) Senior Managers       0.39      0.24      0.30        71\n",
      "                (5) Department Head       0.43      0.26      0.33        38\n",
      "                  (6) Function Head       0.00      0.00      0.00        13\n",
      "            (7) Divisional Director       0.00      0.00      0.00         3\n",
      "              (8) Managing Director       0.00      0.00      0.00         1\n",
      "                (9) Chief Executive       0.00      0.00      0.00         1\n",
      "\n",
      "                          micro avg       0.48      0.48      0.48       592\n",
      "                          macro avg       0.25      0.24      0.23       592\n",
      "                       weighted avg       0.45      0.48      0.45       592\n",
      "\n"
     ]
    }
   ],
   "source": [
    "print(classification_report(y_test, gnb_preds, target_names=y_names))"
   ]
  },
  {
   "cell_type": "code",
   "execution_count": 144,
   "metadata": {},
   "outputs": [
    {
     "data": {
      "text/plain": [
       "0.3907831338878222"
      ]
     },
     "execution_count": 144,
     "metadata": {},
     "output_type": "execute_result"
    }
   ],
   "source": [
    "from sklearn.gaussian_process import GaussianProcessClassifier\n",
    "from sklearn.gaussian_process.kernels import RBF\n",
    "kernel = 1.0 * RBF(1.0)\n",
    "gpc = GaussianProcessClassifier(kernel = kernel, random_state=123)\n",
    "\n",
    "gpc_m = gpc.fit(X_train, y_train)\n",
    "gpc_preds = gpc.predict(X_test)\n",
    "f1_score(y_test, lr_preds, average='weighted')"
   ]
  }
 ],
 "metadata": {
  "kernelspec": {
   "display_name": "Python 3",
   "language": "python",
   "name": "python3"
  },
  "language_info": {
   "codemirror_mode": {
    "name": "ipython",
    "version": 2
   },
   "file_extension": ".py",
   "mimetype": "text/x-python",
   "name": "python",
   "nbconvert_exporter": "python",
   "pygments_lexer": "ipython2",
   "version": "2.7.16"
  }
 },
 "nbformat": 4,
 "nbformat_minor": 2
}
