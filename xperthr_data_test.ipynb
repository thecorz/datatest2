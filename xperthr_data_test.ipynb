{
 "cells": [
  {
   "cell_type": "markdown",
   "metadata": {},
   "source": [
    "# xpertHR data test"
   ]
  },
  {
   "cell_type": "markdown",
   "metadata": {},
   "source": [
    "Data Scientist: work test (brief)\n",
    "\n",
    "Please work your way through the challenge below. This is not designed to trip you up and you may refer to any resources necessary.\n",
    "\n",
    "Resources: your own know-how plus feel free to use any resource you can find online, this is not a memory test.\n",
    "Not allowed: sharing...or help from a friend, colleague, relative or basically anyone else!\n",
    "Time allowed: 60 minutes. Your time is precious.\n",
    "Assessment: inspection of method used, expected results obtained.\n",
    "Completed? Please export as a Python module and return to the recruiter.\n",
    "Challenge\n",
    "Build a simple model using the nominated dataset and Sklearn (or other Python library) to predict \"Level\" based on any available and appropriate features.\n",
    "\n",
    "Inputs\n",
    "Use this dataset: http://resources.xperthr.co.uk/surveys/salary/Sample/Work_Test_-_synthetic_data_ds.xlsx\n",
    "\n",
    "Outputs\n",
    "Working code that fits a model\n",
    "Prediction accuracy score metric named \"c1_score\" for a 30% test sample"
   ]
  },
  {
   "cell_type": "code",
   "execution_count": 1,
   "metadata": {},
   "outputs": [],
   "source": [
    "import pandas as pd\n",
    "import seaborn as sns"
   ]
  },
  {
   "cell_type": "code",
   "execution_count": null,
   "metadata": {},
   "outputs": [],
   "source": [
    "df "
   ]
  }
 ],
 "metadata": {
  "kernelspec": {
   "display_name": "Python3 (env)",
   "language": "python",
   "name": "env"
  },
  "language_info": {
   "codemirror_mode": {
    "name": "ipython",
    "version": 3
   },
   "file_extension": ".py",
   "mimetype": "text/x-python",
   "name": "python",
   "nbconvert_exporter": "python",
   "pygments_lexer": "ipython3",
   "version": "3.7.3"
  }
 },
 "nbformat": 4,
 "nbformat_minor": 2
}
